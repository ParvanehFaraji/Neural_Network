{
  "cells": [
    {
      "cell_type": "markdown",
      "metadata": {
        "id": "view-in-github",
        "colab_type": "text"
      },
      "source": [
        "<a href=\"https://colab.research.google.com/github/ParvanehFaraji/Neural_Network/blob/main/mlp_boot26.ipynb\" target=\"_parent\"><img src=\"https://colab.research.google.com/assets/colab-badge.svg\" alt=\"Open In Colab\"/></a>"
      ]
    },
    {
      "cell_type": "markdown",
      "metadata": {
        "id": "aNFxE_7odq_P"
      },
      "source": [
        "# Building a Simple MLP for Fashion MNIST"
      ]
    },
    {
      "cell_type": "markdown",
      "metadata": {
        "id": "F1uW5BJldq_T"
      },
      "source": [
        "- Implement a feedforward neural network (MLP) using PyTorch for the Fashion MNIST dataset.\n",
        "- Train the model and report the test accuracy.\n",
        "- Experiment with different numbers of hidden layers and neurons and analyze their impact on performance.\n"
      ]
    },
    {
      "cell_type": "markdown",
      "metadata": {
        "id": "w6lDfAIVdq_U"
      },
      "source": [
        "\n"
      ]
    },
    {
      "cell_type": "markdown",
      "metadata": {
        "id": "jtHXytOudq_V"
      },
      "source": [
        "- Train an MLP on CIFAR-10 using different activation functions (ReLU, Tanh, Sigmoid).\n",
        "- Compare the performance in terms of accuracy, loss, and training time.\n",
        "- Explain why certain activation functions work better for deep networks."
      ]
    },
    {
      "cell_type": "markdown",
      "metadata": {
        "id": "YSTHTENxdq_W"
      },
      "source": [
        "# Hyperparameter Tuning for CIFAR-10"
      ]
    },
    {
      "cell_type": "markdown",
      "metadata": {
        "id": "8BSkFwoadq_W"
      },
      "source": [
        "- Perform hyperparameter tuning (learning rate, batch size, number of hidden layers) for an MLP on CIFAR-10.\n",
        "- Discuss the impact of each hyperparameter on model performance."
      ]
    },
    {
      "cell_type": "markdown",
      "metadata": {
        "id": "77FHQrFpdq_X"
      },
      "source": [
        "# Limitations of MLPs on Image Data"
      ]
    },
    {
      "cell_type": "markdown",
      "metadata": {
        "id": "u-c5HrVedq_X"
      },
      "source": [
        "- Train an MLP on CIFAR-100.\n",
        "- Use hyperparameter tuning to achive better accuracy.\n",
        "- Explain why MLPs struggle with complex image datasets like CIFAR-100."
      ]
    }
  ],
  "metadata": {
    "language_info": {
      "name": "python"
    },
    "colab": {
      "provenance": [],
      "include_colab_link": true
    }
  },
  "nbformat": 4,
  "nbformat_minor": 0
}